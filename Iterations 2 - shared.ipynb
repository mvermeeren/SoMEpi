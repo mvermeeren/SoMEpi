{
 "cells": [
  {
   "cell_type": "code",
   "execution_count": 1,
   "id": "b7cc7625",
   "metadata": {},
   "outputs": [
    {
     "data": {
      "text/html": [
       "<pre style=\"white-space:pre;overflow-x:auto;line-height:normal;font-family:Menlo,'DejaVu Sans Mono',consolas,'Courier New',monospace\">Manim Community <span style=\"color: #008000; text-decoration-color: #008000\">v0.17.3</span>\n",
       "\n",
       "</pre>\n"
      ],
      "text/plain": [
       "Manim Community \u001b[32mv0.\u001b[0m\u001b[32m17.3\u001b[0m\n",
       "\n"
      ]
     },
     "metadata": {},
     "output_type": "display_data"
    }
   ],
   "source": [
    "from manim import *\n",
    "from scipy.optimize import root\n",
    "from more_itertools import repeatfunc\n",
    "from random import randint\n",
    "\n",
    "b_light = YELLOW_A #\"#e7dfa6\"\n",
    "b_red = MAROON_A #\"#ed947c\"\n",
    "\n",
    "config.background_color = \"#080833\""
   ]
  },
  {
   "cell_type": "code",
   "execution_count": 2,
   "id": "13c82a1a",
   "metadata": {},
   "outputs": [],
   "source": [
    "config.media_width = \"70%\"\n",
    "config.verbosity = \"WARNING\""
   ]
  },
  {
   "cell_type": "code",
   "execution_count": 3,
   "id": "592192f6",
   "metadata": {
    "scrolled": true
   },
   "outputs": [
    {
     "name": "stdout",
     "output_type": "stream",
     "text": [
      "[0.18098600645106025, 0.5780972804878324, 0.9512131776435788, 0.18098600645105828]\n",
      "    fjac: array([[-1.]])\n",
      "     fun: array([-2.33146835e-15])\n",
      " message: 'The solution converged.'\n",
      "    nfev: 7\n",
      "     qtf: array([1.31788136e-09])\n",
      "       r: array([2.90000506])\n",
      "  status: 1\n",
      " success: True\n",
      "       x: array([0.74358974])\n",
      "0.7435897435897444\n"
     ]
    }
   ],
   "source": [
    "def logistic(y, r=3.9):\n",
    "    return r*y*(1-y)\n",
    "\n",
    "pts3 = [0.18098600645106025]\n",
    "for i in range(3):\n",
    "    pts3 += [logistic(pts3[-1])]\n",
    "print(pts3)\n",
    "\n",
    "c = 0.7435897435897444\n",
    "\n",
    "def logisticpower(n,y):\n",
    "    for i in range(n):\n",
    "        y = logistic(y)\n",
    "    return y\n",
    "\n",
    "sol = root(lambda y: logisticpower(1,y)-y, .8)\n",
    "print(sol)\n",
    "print(sol.x[0])\n",
    "\n",
    "periodic = [0.7435897435897436, \n",
    "            0.35897435897435914, \n",
    "            0.5780972804878335, \n",
    "            0.6195076919497793, \n",
    "            0.23736827282885084,\n",
    "            0.5460917791915939, \n",
    "            0.5289273611277906, \n",
    "            0.5927377530773453,\n",
    "            0.7710049893190077,\n",
    "            0.5155611776250768]"
   ]
  },
  {
   "cell_type": "code",
   "execution_count": 4,
   "id": "64530030",
   "metadata": {},
   "outputs": [],
   "source": [
    "config.tex_template = TexFontTemplates.urw_avant_garde\n",
    "\n",
    "def inverse_logistic(endpts,right=True):\n",
    "    \"\"\"Look for inverse image of interval defined by endpts\"\"\"\n",
    "    a,b = endpts\n",
    "    ainv = root(lambda y: logistic(y)-a, int(right)).x[0]\n",
    "    binv = root(lambda y: logistic(y)-b, int(right)).x[0]\n",
    "    out = [ainv,binv]\n",
    "    out.sort()\n",
    "    return out\n",
    "\n",
    "def get_axes(width = 12, height=5, time = 25, show_ticks=False):\n",
    "    axes = Axes(\n",
    "                x_range=[0, time, 2*time],#x_range=[0, time, time],\n",
    "                y_range=[0, 1.2, 1.5],#y_range=[0, 1.3, 1],\n",
    "                x_length = width,\n",
    "                y_length = height,\n",
    "            ).set_color(b_light)\n",
    "    axes.to_edge(LEFT, buff=1).shift(.3*UP)\n",
    "    x_label = axes.get_x_axis_label(\"\\\\text{time}\", edge=DR, direction=DL).set_color(b_light)\n",
    "    y_label = axes.get_y_axis_label(\"\\\\text{population}\").set_color(b_light)\n",
    "    out = [axes,VGroup(x_label,y_label)]\n",
    "    if show_ticks:\n",
    "        abc = [Tex(r\"$a$\").move_to(axes.coords_to_point(-1,pts3[0])),\n",
    "                Tex(r\"$b$\").move_to(axes.coords_to_point(-1,pts3[1])),\n",
    "                Tex(r\"$c$\").move_to(axes.coords_to_point(-1,pts3[2])),\n",
    "                ]\n",
    "        ticks = [Line(axes.coords_to_point(-.3,pts3[i]),axes.coords_to_point(.3,pts3[i]), stroke_width=1) for i in range(3)]\n",
    "        out += [VGroup(*ticks,*abc).set_color(b_light)]\n",
    "    return out\n",
    "\n",
    "def get_cobweb_axes(width = 5, F = lambda x: logistic(x,3.9), show_graph=False, show_braces=False, label=MathTex(\"F(x)\")):\n",
    "    config.tex_template = TexFontTemplates.urw_avant_garde\n",
    "    axes = Axes(\n",
    "                x_range=[0.0, 1.2, 1.2],\n",
    "                y_range=[0.0, 1.2, 1.2],\n",
    "                x_length=width,\n",
    "                y_length=width\n",
    "            ).set_color(b_light)\n",
    "    axes.to_edge(RIGHT, buff=1).shift(.3*UP)\n",
    "    x_label = axes.get_x_axis_label(\"x\", edge=DR, direction=DL).set_color(b_red)\n",
    "    y_label = axes.get_y_axis_label(label).set_color(b_red)\n",
    "    out = [axes,VGroup(x_label,y_label)]\n",
    "    if show_graph:\n",
    "        graph = axes.plot(F, color=b_red, x_range = [0,1])        \n",
    "        diagonal = Line(axes.coords_to_point(0,0), axes.coords_to_point(1,1), stroke_color=b_light,stroke_width=2)\n",
    "        path = []\n",
    "        for i in range(3):\n",
    "            path += [Line(axes.coords_to_point(pts3[i],pts3[i]), axes.coords_to_point(pts3[i],pts3[i+1]), stroke_width=2, stroke_color=YELLOW)]\n",
    "            path += [Line(axes.coords_to_point(pts3[i],pts3[i+1]), axes.coords_to_point(pts3[i+1],pts3[i+1]), stroke_width=2, stroke_color=YELLOW)]\n",
    "        out += [VGroup(graph,diagonal,*path)]\n",
    "        if show_braces:\n",
    "            abc = [Tex(r\"$a$\").move_to(axes.coords_to_point(pts3[0],-.1)),\n",
    "                  Tex(r\"$a$\").move_to(axes.coords_to_point(-.1,pts3[0])),\n",
    "                  Tex(r\"$b$\").move_to(axes.coords_to_point(pts3[1],-.1)),\n",
    "                  Tex(r\"$b$\").move_to(axes.coords_to_point(-.1,pts3[1])),\n",
    "                  Tex(r\"$c$\").move_to(axes.coords_to_point(pts3[2],-.1)),\n",
    "                  Tex(r\"$c$\").move_to(axes.coords_to_point(-.1,pts3[2])),\n",
    "                  ]\n",
    "            ticks = [Line(axes.coords_to_point(pts3[i],.03),axes.coords_to_point(pts3[i],-.03), stroke_width=1) for i in range(3)]\n",
    "            ticks += [Line(axes.coords_to_point(-.03,pts3[i]),axes.coords_to_point(.03,pts3[i]), stroke_width=1) for i in range(3)]\n",
    "            out += [VGroup(*ticks,*abc).set_color(b_light)]\n",
    "    return out\n",
    "\n",
    "def FocusBar(obj,direction=LEFT):\n",
    "    dots = VGroup(Dot(obj.get_corner(UL)), Dot().to_corner(UL,buff=0), Dot().to_corner(UR,buff=0))\n",
    "    upper = SurroundingRectangle(dots, fill_color=BLACK, fill_opacity=.5, stroke_width=0, buff=-.1)\n",
    "    dots = VGroup(Dot(obj.get_corner(DR)), Dot().to_corner(DL,buff=0), Dot().to_corner(DR,buff=0))\n",
    "    lower = SurroundingRectangle(dots, fill_color=BLACK, fill_opacity=.5, stroke_width=0, buff=-.1)\n",
    "    return VGroup(upper,lower)"
   ]
  },
  {
   "cell_type": "code",
   "execution_count": 9,
   "id": "c008aa5b",
   "metadata": {},
   "outputs": [
    {
     "data": {
      "image/png": "[encoded data removed]",
      "text/plain": [
       "<IPython.core.display.Image object>"
      ]
     },
     "metadata": {},
     "output_type": "display_data"
    }
   ],
   "source": [
    "%%manim -qh Blank\n",
    "config.tex_template = TexFontTemplates.urw_avant_garde\n",
    "\n",
    "class Blank(Scene):\n",
    "    def construct(self):\n",
    "        text = Tex(\"\").set_color(b_red).scale(2)\n",
    "        self.add(text)"
   ]
  },
  {
   "cell_type": "code",
   "execution_count": 11,
   "id": "23712c29",
   "metadata": {},
   "outputs": [
    {
     "name": "stderr",
     "output_type": "stream",
     "text": [
      "                                                                                \r"
     ]
    },
    {
     "data": {
      "text/html": [
       "<video src=\"media/jupyter/D0_Recap@2024-08-20@08-59-39.mp4\" controls autoplay loop style=\"max-width: 70%;\"  >\n",
       "      Your browser does not support the <code>video</code> element.\n",
       "    </video>"
      ],
      "text/plain": [
       "<IPython.core.display.Video object>"
      ]
     },
     "metadata": {},
     "output_type": "display_data"
    }
   ],
   "source": [
    "%%manim -qh D0_Recap\n",
    "config.tex_template = TexFontTemplates.urw_avant_garde\n",
    "\n",
    "class D0_Recap(Scene):\n",
    "    def construct(self):\n",
    "        t1 = Tex(\"Logistic Map\").shift(UP).shift(3*LEFT)\n",
    "        t2a = MathTex(\"F(x) = \")\n",
    "        t2b = MathTex(\"r\").next_to(t2a,RIGHT, buff=.3)\n",
    "        t2bb = MathTex(\"3.9\").next_to(t2a,RIGHT, buff=.1)\n",
    "        t2c = MathTex(\"x \\, (1-x)\").next_to(t2bb,RIGHT, buff=.1)\n",
    "        \n",
    "        VGroup(t2a,t2b,t2bb,t2c).next_to(t1,DOWN, buff=1)\n",
    "        \n",
    "        self.wait(2)\n",
    "        self.play(Write(t1),run_time=2)\n",
    "        self.play(Write(t2a), run_time=2)\n",
    "        self.play(Write(t2b))\n",
    "        self.play(Write(t2c), run_time=2)\n",
    "        self.wait(8)\n",
    "                \n",
    "        r_axes,r_labels,graph = get_cobweb_axes(show_graph=True) \n",
    "        \n",
    "        self.play(Create(r_axes))\n",
    "        self.play(Write(r_labels))\n",
    "        self.play(Create(graph[0]))\n",
    "        self.wait()\n",
    "        self.play(Transform(t2b,t2bb))\n",
    "        self.wait(15)"
   ]
  },
  {
   "cell_type": "code",
   "execution_count": 10,
   "id": "14355ae2",
   "metadata": {
    "scrolled": true
   },
   "outputs": [
    {
     "data": {
      "text/html": [
       "<video src=\"media/jupyter/D1_PopVsTime@2024-08-20@08-59-24.mp4\" controls autoplay loop style=\"max-width: 70%;\"  >\n",
       "      Your browser does not support the <code>video</code> element.\n",
       "    </video>"
      ],
      "text/plain": [
       "<IPython.core.display.Video object>"
      ]
     },
     "metadata": {},
     "output_type": "display_data"
    }
   ],
   "source": [
    "%%manim -qh D1_PopVsTime\n",
    "config.tex_template = TexFontTemplates.urw_avant_garde\n",
    "\n",
    "class D1_PopVsTime(Scene):\n",
    "    def construct(self):\n",
    "        h=.1\n",
    "        pts = [.6]\n",
    "        y = pts[-1]\n",
    "\n",
    "        axes,labels = get_axes(height=4)\n",
    "        axes.shift(DOWN)\n",
    "        labels.shift(DOWN)\n",
    "        \n",
    "        butterfly = ImageMobject(\"butterfly.png\").scale(.07).move_to(axes.coords_to_point(1,1.5))\n",
    "        def get_butterflies(n):\n",
    "            xlocs = [0] + [(i+np.random.normal()/2)*2/3 for i in range(n-1)]\n",
    "            ylocs = np.random.uniform(size = n)\n",
    "            return [butterfly.copy().shift(xlocs[i]*RIGHT + ylocs[i]*UP).rotate(np.random.normal(0,.2)) for i in range(n)]\n",
    "        butterflies = get_butterflies(int(20*y))\n",
    "        \n",
    "        self.add(*butterflies)\n",
    "        self.add(axes,labels)\n",
    "        \n",
    "        self.add(Dot(axes.coords_to_point(0,pts[-1])))\n",
    "        for i in range(22):\n",
    "            y = pts[-1]\n",
    "            ynew = logistic(y)\n",
    "            pts += [ynew]\n",
    "            self.wait(.5)\n",
    "            self.add(Dot(axes.coords_to_point(i+1,pts[-1])))\n",
    "            self.remove(*butterflies)\n",
    "            butterflies = get_butterflies(int(20*ynew))\n",
    "            self.add(*butterflies)\n",
    "            self.add(Line(axes.coords_to_point(i,pts[-2]),axes.coords_to_point(i+1,pts[-1])).set_opacity(.5))\n",
    "        self.wait(5)"
   ]
  },
  {
   "cell_type": "code",
   "execution_count": 14,
   "id": "2f6eb3f0",
   "metadata": {},
   "outputs": [
    {
     "name": "stderr",
     "output_type": "stream",
     "text": [
      "                                                                                \r"
     ]
    },
    {
     "data": {
      "text/html": [
       "<video src=\"media/jupyter/D2_Periodic@2024-08-20@09-03-09.mp4\" controls autoplay loop style=\"max-width: 70%;\"  >\n",
       "      Your browser does not support the <code>video</code> element.\n",
       "    </video>"
      ],
      "text/plain": [
       "<IPython.core.display.Video object>"
      ]
     },
     "metadata": {},
     "output_type": "display_data"
    }
   ],
   "source": [
    "%%manim -qh D2_Periodic\n",
    "config.tex_template = TexFontTemplates.urw_avant_garde\n",
    "\n",
    "class D2_Periodic(Scene):\n",
    "    def construct(self):\n",
    "        rt = [7,14,5,3.5,3.5,3.5,3.5,3.5,3.5,3.5,3.5,3.5]\n",
    "        k=0\n",
    "\n",
    "        axes,labels = get_axes()\n",
    "        self.wait()\n",
    "        self.play(Create(VGroup(axes,labels)),run_time=2)\n",
    "        \n",
    "        text = [Tex(str(i) + \"-periodic\").to_corner(RIGHT+UP, buff=1.2) for i in range(12)]\n",
    "        \n",
    "        for pt in periodic[:10]:\n",
    "            self.add(axes,labels)\n",
    "            pts = [pt]\n",
    "            y = pts[-1]\n",
    "\n",
    "            self.add(Dot(axes.coords_to_point(0,pts[-1])))\n",
    "            graph_elements = []\n",
    "            for i in range(22):\n",
    "                y = pts[-1]\n",
    "                if pt == 0.7435897435897436:\n",
    "                    ynew = pt\n",
    "                else:\n",
    "                    ynew = logistic(y)\n",
    "                pts += [ynew]\n",
    "                graph_elements += [VGroup(Line(axes.coords_to_point(i,pts[-2]),axes.coords_to_point(i+1,pts[-1])).set_opacity(.5),\n",
    "                                  Dot(axes.coords_to_point(i+1,pts[-1])))]\n",
    "            if k > 1:\n",
    "                self.add(text[k+1])\n",
    "            if k == 1:\n",
    "                graph_elements.insert(18,text[2])\n",
    "                rf = rate_functions.rush_into\n",
    "            else:\n",
    "                rf = rate_functions.linear\n",
    "            self.play(ShowIncreasingSubsets(VGroup(*graph_elements), rate_func = rf), run_time=rt[k])\n",
    "            if k == 1 or k == 9:\n",
    "                self.wait(2)\n",
    "            k += 1\n",
    "            self.clear()"
   ]
  },
  {
   "cell_type": "code",
   "execution_count": 9,
   "id": "3b5aa9a2",
   "metadata": {},
   "outputs": [
    {
     "name": "stderr",
     "output_type": "stream",
     "text": [
      "                                                                                \r"
     ]
    },
    {
     "data": {
      "text/html": [
       "<video src=\"media/jupyter/D3_PeriodicOverlay@2024-08-19@21-31-44.mp4\" controls autoplay loop style=\"max-width: 70%;\"  >\n",
       "      Your browser does not support the <code>video</code> element.\n",
       "    </video>"
      ],
      "text/plain": [
       "<IPython.core.display.Video object>"
      ]
     },
     "metadata": {},
     "output_type": "display_data"
    }
   ],
   "source": [
    "%%manim -qh D3_PeriodicOverlay\n",
    "config.tex_template = TexFontTemplates.urw_avant_garde\n",
    "\n",
    "class D3_PeriodicOverlay(Scene):\n",
    "    def construct(self):\n",
    "        periodic = [0.7435897435897436, \n",
    "                    0.35897435897435914, \n",
    "                    0.5780972804878335, \n",
    "                    0.6195076919497793, \n",
    "                    0.23736827282885084,\n",
    "                    0.5460917791915939, \n",
    "                    0.5289273611277906, \n",
    "                    0.5927377530773453,\n",
    "                    0.7710049893190077,\n",
    "                    0.5155611776250768]\n",
    "        all_elements = []\n",
    "        for pt in periodic:\n",
    "            pts = [pt]\n",
    "            y = pts[-1]\n",
    "\n",
    "            axes,labels = get_axes()\n",
    "            self.add(axes,labels)\n",
    "\n",
    "            self.add(Dot(axes.coords_to_point(0,pts[-1]), fill_opacity=.5))\n",
    "            graph_elements = []\n",
    "            for i in range(22):\n",
    "                y = pts[-1]\n",
    "                if pt == 0.7435897435897436:\n",
    "                    ynew = pt\n",
    "                else:\n",
    "                    ynew = logistic(y)\n",
    "                pts += [ynew]\n",
    "                graph_elements += [VGroup(Line(axes.coords_to_point(i,pts[-2]),axes.coords_to_point(i+1,pts[-1]),stroke_opacity=0.2),\n",
    "                                         Dot(axes.coords_to_point(i+1,pts[-1]), fill_opacity=.5))]\n",
    "            all_elements += [graph_elements]\n",
    "        self.play(*[Create(VGroup(*all_elements[i])) for i in range(len(periodic))], run_time=10, rate_func = rush_into)\n",
    "        self.wait(3)"
   ]
  },
  {
   "cell_type": "code",
   "execution_count": 5,
   "id": "21abb065",
   "metadata": {},
   "outputs": [
    {
     "name": "stderr",
     "output_type": "stream",
     "text": [
      "                                                                                \r"
     ]
    },
    {
     "data": {
      "text/html": [
       "<video src=\"media/jupyter/D4_PeriodicPerturbation@2024-08-20@17-58-40.mp4\" controls autoplay loop style=\"max-width: 70%;\"  >\n",
       "      Your browser does not support the <code>video</code> element.\n",
       "    </video>"
      ],
      "text/plain": [
       "<IPython.core.display.Video object>"
      ]
     },
     "metadata": {},
     "output_type": "display_data"
    }
   ],
   "source": [
    "%%manim -qh D4_PeriodicPerturbation\n",
    "config.tex_template = TexFontTemplates.urw_avant_garde\n",
    "\n",
    "class D4_PeriodicPerturbation(Scene):\n",
    "    def construct(self):\n",
    "        periodic = [0.7435897435897436, \n",
    "                    0.35897435897435914, \n",
    "                    0.5780972804878335, \n",
    "                    0.6195076919497793, \n",
    "                    0.23736827282885084,\n",
    "                    0.5460917791915939, \n",
    "                    0.5289273611277906, \n",
    "                    0.5927377530773453,\n",
    "                    0.7710049893190077,\n",
    "                    0.5155611776250768]\n",
    "        for pt in periodic[1:2]:\n",
    "            axes,labels = get_axes()\n",
    "            self.add(axes,labels)\n",
    "            \n",
    "            pts = [pt]\n",
    "            self.add(Dot(axes.coords_to_point(0,pts[-1])))\n",
    "            graph_elements = []\n",
    "            for i in range(22):\n",
    "                if i%2 == 0:\n",
    "                    ynew = logistic(pt)\n",
    "                else:\n",
    "                    ynew = pt\n",
    "                pts += [ynew]\n",
    "                graph_elements += [VGroup(Dot(axes.coords_to_point(i+1,pts[-1]),color=b_light),\n",
    "                                          Line(axes.coords_to_point(i,pts[-2]),axes.coords_to_point(i+1,pts[-1]),stroke_color=b_light).set_opacity(.2))]\n",
    "            self.add(VGroup(*graph_elements).set_opacity(.5))\n",
    "            \n",
    "            pts = [pt+.00078]\n",
    "            graph_elements = []\n",
    "            for i in range(22):\n",
    "                y = pts[-1]\n",
    "                ynew = logistic(y)\n",
    "                pts += [ynew]\n",
    "                graph_elements += [VGroup(Line(axes.coords_to_point(i,pts[-2]),axes.coords_to_point(i+1,pts[-1])).set_opacity(.2)),\n",
    "                                  Dot(axes.coords_to_point(i+1,pts[-1]))]\n",
    "            self.play(ShowIncreasingSubsets(VGroup(*graph_elements)), run_time=17, rate_func=linear) #, rate_func = rate_functions.ease_in_sine)\n",
    "            self.wait(3)"
   ]
  },
  {
   "cell_type": "code",
   "execution_count": 36,
   "id": "8cd2c567",
   "metadata": {},
   "outputs": [
    {
     "ename": "FileNotFoundError",
     "evalue": "[Errno 2] No such file or directory: 'media/jupyter/D5_Periodic@2024-08-20@09-05-45.mp4'",
     "output_type": "error",
     "traceback": [
      "\u001b[0;31m---------------------------------------------------------------------------\u001b[0m",
      "\u001b[0;31mFileNotFoundError\u001b[0m                         Traceback (most recent call last)",
      "\u001b[0;32m/tmp/ipykernel_7103/97971667.py\u001b[0m in \u001b[0;36m<module>\u001b[0;34m\u001b[0m\n\u001b[0;32m----> 1\u001b[0;31m \u001b[0mget_ipython\u001b[0m\u001b[0;34m(\u001b[0m\u001b[0;34m)\u001b[0m\u001b[0;34m.\u001b[0m\u001b[0mrun_cell_magic\u001b[0m\u001b[0;34m(\u001b[0m\u001b[0;34m'manim'\u001b[0m\u001b[0;34m,\u001b[0m \u001b[0;34m'-qh D5_Periodic'\u001b[0m\u001b[0;34m,\u001b[0m \u001b[0;34m'config.tex_template = TexFontTemplates.urw_avant_garde\\n\\nclass D5_Periodic(Scene):\\n    def construct(self):\\n        k=0\\n\\n        axes,labels = get_axes()\\n        self.add(axes,labels)\\n        self.wait()\\n        \\n        text = [Tex(str(i) + \"-periodic\").to_corner(RIGHT+UP, buff=1.2) for i in range(12)]\\n        \\n        for pt in periodic[:10]:\\n            self.add(axes,labels)\\n            pts = [pt]\\n            y = pts[-1]\\n\\n            self.add(Dot(axes.coords_to_point(0,pts[-1])))\\n            graph_elements = []\\n            for i in range(22):\\n                y = pts[-1]\\n                if pt == 0.7435897435897436:\\n                    ynew = pt\\n                else:\\n                    ynew = logistic(y)\\n                pts += [ynew]\\n                graph_elements += [VGroup(Line(axes.coords_to_point(i,pts[-2]),axes.coords_to_point(i+1,pts[-1])).set_opacity(.5),\\n                                  Dot(axes.coords_to_point(i+1,pts[-1])))]\\n            if k > 1:\\n                self.add(text[k+1])\\n            if k == 1:\\n                graph_elements.insert(18,text[2])\\n            if k < 2:\\n                rf = rate_functions.rush_into\\n            else:\\n                rf = rate_functions.linear\\n            self.add(VGroup(*graph_elements))\\n            k += 1\\n            self.wait(1.2)\\n            self.clear()\\n        self.wait(3)\\n'\u001b[0m\u001b[0;34m)\u001b[0m\u001b[0;34m\u001b[0m\u001b[0;34m\u001b[0m\u001b[0m\n\u001b[0m",
      "\u001b[0;32m/usr/lib/python3/dist-packages/IPython/core/interactiveshell.py\u001b[0m in \u001b[0;36mrun_cell_magic\u001b[0;34m(self, magic_name, line, cell)\u001b[0m\n\u001b[1;32m   2417\u001b[0m             \u001b[0;32mwith\u001b[0m \u001b[0mself\u001b[0m\u001b[0;34m.\u001b[0m\u001b[0mbuiltin_trap\u001b[0m\u001b[0;34m:\u001b[0m\u001b[0;34m\u001b[0m\u001b[0;34m\u001b[0m\u001b[0m\n\u001b[1;32m   2418\u001b[0m                 \u001b[0margs\u001b[0m \u001b[0;34m=\u001b[0m \u001b[0;34m(\u001b[0m\u001b[0mmagic_arg_s\u001b[0m\u001b[0;34m,\u001b[0m \u001b[0mcell\u001b[0m\u001b[0;34m)\u001b[0m\u001b[0;34m\u001b[0m\u001b[0;34m\u001b[0m\u001b[0m\n\u001b[0;32m-> 2419\u001b[0;31m                 \u001b[0mresult\u001b[0m \u001b[0;34m=\u001b[0m \u001b[0mfn\u001b[0m\u001b[0;34m(\u001b[0m\u001b[0;34m*\u001b[0m\u001b[0margs\u001b[0m\u001b[0;34m,\u001b[0m \u001b[0;34m**\u001b[0m\u001b[0mkwargs\u001b[0m\u001b[0;34m)\u001b[0m\u001b[0;34m\u001b[0m\u001b[0;34m\u001b[0m\u001b[0m\n\u001b[0m\u001b[1;32m   2420\u001b[0m             \u001b[0;32mreturn\u001b[0m \u001b[0mresult\u001b[0m\u001b[0;34m\u001b[0m\u001b[0;34m\u001b[0m\u001b[0m\n\u001b[1;32m   2421\u001b[0m \u001b[0;34m\u001b[0m\u001b[0m\n",
      "\u001b[0;32m~/.local/lib/python3.10/site-packages/decorator.py\u001b[0m in \u001b[0;36mfun\u001b[0;34m(*args, **kw)\u001b[0m\n\u001b[1;32m    230\u001b[0m             \u001b[0;32mif\u001b[0m \u001b[0;32mnot\u001b[0m \u001b[0mkwsyntax\u001b[0m\u001b[0;34m:\u001b[0m\u001b[0;34m\u001b[0m\u001b[0;34m\u001b[0m\u001b[0m\n\u001b[1;32m    231\u001b[0m                 \u001b[0margs\u001b[0m\u001b[0;34m,\u001b[0m \u001b[0mkw\u001b[0m \u001b[0;34m=\u001b[0m \u001b[0mfix\u001b[0m\u001b[0;34m(\u001b[0m\u001b[0margs\u001b[0m\u001b[0;34m,\u001b[0m \u001b[0mkw\u001b[0m\u001b[0;34m,\u001b[0m \u001b[0msig\u001b[0m\u001b[0;34m)\u001b[0m\u001b[0;34m\u001b[0m\u001b[0;34m\u001b[0m\u001b[0m\n\u001b[0;32m--> 232\u001b[0;31m             \u001b[0;32mreturn\u001b[0m \u001b[0mcaller\u001b[0m\u001b[0;34m(\u001b[0m\u001b[0mfunc\u001b[0m\u001b[0;34m,\u001b[0m \u001b[0;34m*\u001b[0m\u001b[0;34m(\u001b[0m\u001b[0mextras\u001b[0m \u001b[0;34m+\u001b[0m \u001b[0margs\u001b[0m\u001b[0;34m)\u001b[0m\u001b[0;34m,\u001b[0m \u001b[0;34m**\u001b[0m\u001b[0mkw\u001b[0m\u001b[0;34m)\u001b[0m\u001b[0;34m\u001b[0m\u001b[0;34m\u001b[0m\u001b[0m\n\u001b[0m\u001b[1;32m    233\u001b[0m     \u001b[0mfun\u001b[0m\u001b[0;34m.\u001b[0m\u001b[0m__name__\u001b[0m \u001b[0;34m=\u001b[0m \u001b[0mfunc\u001b[0m\u001b[0;34m.\u001b[0m\u001b[0m__name__\u001b[0m\u001b[0;34m\u001b[0m\u001b[0;34m\u001b[0m\u001b[0m\n\u001b[1;32m    234\u001b[0m     \u001b[0mfun\u001b[0m\u001b[0;34m.\u001b[0m\u001b[0m__doc__\u001b[0m \u001b[0;34m=\u001b[0m \u001b[0mfunc\u001b[0m\u001b[0;34m.\u001b[0m\u001b[0m__doc__\u001b[0m\u001b[0;34m\u001b[0m\u001b[0;34m\u001b[0m\u001b[0m\n",
      "\u001b[0;32m/usr/lib/python3/dist-packages/IPython/core/magic.py\u001b[0m in \u001b[0;36m<lambda>\u001b[0;34m(f, *a, **k)\u001b[0m\n\u001b[1;32m    185\u001b[0m     \u001b[0;31m# but it's overkill for just that one bit of state.\u001b[0m\u001b[0;34m\u001b[0m\u001b[0;34m\u001b[0m\u001b[0m\n\u001b[1;32m    186\u001b[0m     \u001b[0;32mdef\u001b[0m \u001b[0mmagic_deco\u001b[0m\u001b[0;34m(\u001b[0m\u001b[0marg\u001b[0m\u001b[0;34m)\u001b[0m\u001b[0;34m:\u001b[0m\u001b[0;34m\u001b[0m\u001b[0;34m\u001b[0m\u001b[0m\n\u001b[0;32m--> 187\u001b[0;31m         \u001b[0mcall\u001b[0m \u001b[0;34m=\u001b[0m \u001b[0;32mlambda\u001b[0m \u001b[0mf\u001b[0m\u001b[0;34m,\u001b[0m \u001b[0;34m*\u001b[0m\u001b[0ma\u001b[0m\u001b[0;34m,\u001b[0m \u001b[0;34m**\u001b[0m\u001b[0mk\u001b[0m\u001b[0;34m:\u001b[0m \u001b[0mf\u001b[0m\u001b[0;34m(\u001b[0m\u001b[0;34m*\u001b[0m\u001b[0ma\u001b[0m\u001b[0;34m,\u001b[0m \u001b[0;34m**\u001b[0m\u001b[0mk\u001b[0m\u001b[0;34m)\u001b[0m\u001b[0;34m\u001b[0m\u001b[0;34m\u001b[0m\u001b[0m\n\u001b[0m\u001b[1;32m    188\u001b[0m \u001b[0;34m\u001b[0m\u001b[0m\n\u001b[1;32m    189\u001b[0m         \u001b[0;32mif\u001b[0m \u001b[0mcallable\u001b[0m\u001b[0;34m(\u001b[0m\u001b[0marg\u001b[0m\u001b[0;34m)\u001b[0m\u001b[0;34m:\u001b[0m\u001b[0;34m\u001b[0m\u001b[0;34m\u001b[0m\u001b[0m\n",
      "\u001b[0;32m~/.local/lib/python3.10/site-packages/manim/utils/ipython_magic.py\u001b[0m in \u001b[0;36mmanim\u001b[0;34m(self, line, cell, local_ns)\u001b[0m\n\u001b[1;32m    161\u001b[0m \u001b[0;34m\u001b[0m\u001b[0m\n\u001b[1;32m    162\u001b[0m                 \u001b[0;32mif\u001b[0m \u001b[0mlocal_path\u001b[0m \u001b[0;32min\u001b[0m \u001b[0mself\u001b[0m\u001b[0;34m.\u001b[0m\u001b[0mrendered_files\u001b[0m\u001b[0;34m:\u001b[0m\u001b[0;34m\u001b[0m\u001b[0;34m\u001b[0m\u001b[0m\n\u001b[0;32m--> 163\u001b[0;31m                     \u001b[0mself\u001b[0m\u001b[0;34m.\u001b[0m\u001b[0mrendered_files\u001b[0m\u001b[0;34m[\u001b[0m\u001b[0mlocal_path\u001b[0m\u001b[0;34m]\u001b[0m\u001b[0;34m.\u001b[0m\u001b[0munlink\u001b[0m\u001b[0;34m(\u001b[0m\u001b[0;34m)\u001b[0m\u001b[0;34m\u001b[0m\u001b[0;34m\u001b[0m\u001b[0m\n\u001b[0m\u001b[1;32m    164\u001b[0m                 \u001b[0mself\u001b[0m\u001b[0;34m.\u001b[0m\u001b[0mrendered_files\u001b[0m\u001b[0;34m[\u001b[0m\u001b[0mlocal_path\u001b[0m\u001b[0;34m]\u001b[0m \u001b[0;34m=\u001b[0m \u001b[0mtmpfile\u001b[0m\u001b[0;34m\u001b[0m\u001b[0;34m\u001b[0m\u001b[0m\n\u001b[1;32m    165\u001b[0m                 \u001b[0mtmpfile\u001b[0m\u001b[0;34m.\u001b[0m\u001b[0mparent\u001b[0m\u001b[0;34m.\u001b[0m\u001b[0mmkdir\u001b[0m\u001b[0;34m(\u001b[0m\u001b[0mparents\u001b[0m\u001b[0;34m=\u001b[0m\u001b[0;32mTrue\u001b[0m\u001b[0;34m,\u001b[0m \u001b[0mexist_ok\u001b[0m\u001b[0;34m=\u001b[0m\u001b[0;32mTrue\u001b[0m\u001b[0;34m)\u001b[0m\u001b[0;34m\u001b[0m\u001b[0;34m\u001b[0m\u001b[0m\n",
      "\u001b[0;32m/usr/lib/python3.10/pathlib.py\u001b[0m in \u001b[0;36munlink\u001b[0;34m(self, missing_ok)\u001b[0m\n\u001b[1;32m   1204\u001b[0m         \"\"\"\n\u001b[1;32m   1205\u001b[0m         \u001b[0;32mtry\u001b[0m\u001b[0;34m:\u001b[0m\u001b[0;34m\u001b[0m\u001b[0;34m\u001b[0m\u001b[0m\n\u001b[0;32m-> 1206\u001b[0;31m             \u001b[0mself\u001b[0m\u001b[0;34m.\u001b[0m\u001b[0m_accessor\u001b[0m\u001b[0;34m.\u001b[0m\u001b[0munlink\u001b[0m\u001b[0;34m(\u001b[0m\u001b[0mself\u001b[0m\u001b[0;34m)\u001b[0m\u001b[0;34m\u001b[0m\u001b[0;34m\u001b[0m\u001b[0m\n\u001b[0m\u001b[1;32m   1207\u001b[0m         \u001b[0;32mexcept\u001b[0m \u001b[0mFileNotFoundError\u001b[0m\u001b[0;34m:\u001b[0m\u001b[0;34m\u001b[0m\u001b[0;34m\u001b[0m\u001b[0m\n\u001b[1;32m   1208\u001b[0m             \u001b[0;32mif\u001b[0m \u001b[0;32mnot\u001b[0m \u001b[0mmissing_ok\u001b[0m\u001b[0;34m:\u001b[0m\u001b[0;34m\u001b[0m\u001b[0;34m\u001b[0m\u001b[0m\n",
      "\u001b[0;31mFileNotFoundError\u001b[0m: [Errno 2] No such file or directory: 'media/jupyter/D5_Periodic@2024-08-20@09-05-45.mp4'"
     ]
    }
   ],
   "source": [
    "%%manim -qh D5_Periodic\n",
    "config.tex_template = TexFontTemplates.urw_avant_garde\n",
    "\n",
    "class D5_Periodic(Scene):\n",
    "    def construct(self):\n",
    "        k=0\n",
    "\n",
    "        axes,labels = get_axes()\n",
    "        self.add(axes,labels)\n",
    "        self.wait()\n",
    "        \n",
    "        text = [Tex(str(i) + \"-periodic\").to_corner(RIGHT+UP, buff=1.2) for i in range(12)]\n",
    "        \n",
    "        for pt in periodic[:10]:\n",
    "            self.add(axes,labels)\n",
    "            pts = [pt]\n",
    "            y = pts[-1]\n",
    "\n",
    "            self.add(Dot(axes.coords_to_point(0,pts[-1])))\n",
    "            graph_elements = []\n",
    "            for i in range(22):\n",
    "                y = pts[-1]\n",
    "                if pt == 0.7435897435897436:\n",
    "                    ynew = pt\n",
    "                else:\n",
    "                    ynew = logistic(y)\n",
    "                pts += [ynew]\n",
    "                graph_elements += [VGroup(Line(axes.coords_to_point(i,pts[-2]),axes.coords_to_point(i+1,pts[-1])).set_opacity(.5),\n",
    "                                  Dot(axes.coords_to_point(i+1,pts[-1])))]\n",
    "            if k > 1:\n",
    "                self.add(text[k+1])\n",
    "            if k == 1:\n",
    "                graph_elements.insert(18,text[2])\n",
    "            if k < 2:\n",
    "                rf = rate_functions.rush_into\n",
    "            else:\n",
    "                rf = rate_functions.linear\n",
    "            self.add(VGroup(*graph_elements))\n",
    "            k += 1\n",
    "            self.wait(1.2)\n",
    "            self.clear()\n",
    "        self.wait(3)"
   ]
  },
  {
   "cell_type": "code",
   "execution_count": 16,
   "id": "41b0fb90",
   "metadata": {},
   "outputs": [],
   "source": [
    "class TwinGraphScene(Scene):\n",
    "    def twingraphs(self, F = logistic, init = .7, steps = 12, label = MathTex(\"F(x)\"), \n",
    "                   dynamic=False, show_cw=False, show_cw_label= False, show_bf=False, rt1=0, rt2=0, flash=True, show_diagonal=False):\n",
    "        \n",
    "        pts = [init]\n",
    "        y = init\n",
    "\n",
    "        l_axes,l_labels = get_axes(width = 5, time = 18)\n",
    "        l_o = l_axes.coords_to_point(0,0)\n",
    "        l_y = l_axes.coords_to_point(0,1)\n",
    "\n",
    "        r_axes,r_labels,graph = get_cobweb_axes(F = F, show_graph=True, label=label) \n",
    "        r_o = r_axes.coords_to_point(0,0)\n",
    "        r_x = r_axes.coords_to_point(1,0)\n",
    "        r_y = r_axes.coords_to_point(0,1)\n",
    " \n",
    "        if dynamic:\n",
    "            self.add(r_axes)\n",
    "            self.add(r_labels)\n",
    "            self.wait(7)\n",
    "        else:\n",
    "            self.add(r_axes,r_labels, graph[0])\n",
    "        \n",
    "        if show_bf:\n",
    "            butterfly = ImageMobject(\"butterfly.png\").scale(.07).move_to(l_axes.coords_to_point(1,1.55))\n",
    "            def get_butterflies(n):\n",
    "                xlocs = [0] + [(i+np.random.normal()/2)*2/3 for i in range(n-1)]\n",
    "                ylocs = np.random.uniform(size = n)\n",
    "                return [butterfly.copy().shift(xlocs[i]*RIGHT + ylocs[i]*UP).rotate(np.random.normal(0,.2)) for i in range(n)]\n",
    "            butterflies = get_butterflies(int(20*init))\n",
    "            for b in butterflies:\n",
    "                self.add(b)\n",
    "                self.wait(.1)\n",
    "        \n",
    "        if dynamic:\n",
    "            self.play(Create(l_axes))\n",
    "            self.play(Write(l_labels), run_time=2)\n",
    "        else:\n",
    "            self.add(l_axes,l_labels) \n",
    "        if show_diagonal:\n",
    "            diagonal = Line(r_o, r_axes.coords_to_point(1,1))\n",
    "            self.add(diagonal)\n",
    "        \n",
    "        # add initial value to left graph\n",
    "        self.add(Dot(l_axes.coords_to_point(0,pts[-1])))\n",
    "        self.wait()\n",
    "        if show_cw:\n",
    "            bead = Dot().move_to((1-y)*r_o + y*r_y)\n",
    "            diagonal = Line(r_o, r_axes.coords_to_point(1,1))\n",
    "            bead2 = bead.copy().set_color(YELLOW)\n",
    "            ruler = VGroup(Line(r_o,r_y))\n",
    "            markedruler = VGroup(ruler,bead).set_color(WHITE)\n",
    "            \n",
    "            self.add(diagonal)\n",
    "            self.add(Dot(l_axes.coords_to_point(0,pts[-1])))\n",
    "            self.add(markedruler)\n",
    "        else:\n",
    "            bead = Dot().move_to((1-y)*l_o + y*l_y)\n",
    "            ruler = VGroup(Line(l_o,l_y, stroke_width=1))\n",
    "            markedruler = VGroup(ruler,bead)\n",
    "            \n",
    "            self.add(markedruler)\n",
    "            self.play(markedruler.animate.move_to( (r_o+r_y)/2 ), run_time=.5+rt1, rate_func=rate_functions.ease_in_sine)\n",
    "            \n",
    "        if show_cw:\n",
    "            self.play(\n",
    "                Rotate(markedruler, about_point = r_o, angle = -PI/2, axis = [0,0,1]),\n",
    "                bead2.animate.move_to( r_axes.coords_to_point(y,y) ),\n",
    "                run_time=.5+rt1, rate_func=rate_functions.ease_out_sine\n",
    "            )\n",
    "            trace2 = TracedPath(bead2.get_center,stroke_opacity=.8, stroke_width=3, stroke_color=YELLOW)\n",
    "            self.add_foreground_mobject(trace2)\n",
    "        else:\n",
    "            self.play(Rotate(markedruler, about_point = r_o, angle = -PI/2, axis = [0,0,1]), run_time=.5+rt1, rate_func=rate_functions.ease_out_sine)\n",
    "        \n",
    "        self.wait(.5)\n",
    "                \n",
    "        for i in range(steps):\n",
    "            rt = .5 + rt1*int(i==0) + rt2*int(i==1)\n",
    "            y = F(pts[-1])\n",
    "            pts += [y]\n",
    "            self.remove(ruler)\n",
    "            \n",
    "            # Move point along iteration on right graph\n",
    "            trace = TracedPath(bead.get_center, dissipating_time=1, stroke_opacity=[0, 1])\n",
    "            self.add(trace)\n",
    "            \n",
    "            if show_cw:\n",
    "                # Fade out ruler\n",
    "                op=1-.5*np.exp(-i/5)\n",
    "                markedruler.set_opacity(op)\n",
    "                \n",
    "                # Move bead vertically\n",
    "                self.play(\n",
    "                    bead.animate.move_to( r_axes.coords_to_point(pts[-2],pts[-1]) ), \n",
    "                    bead2.animate.move_to( r_axes.coords_to_point(pts[-2],pts[-1]) ), \n",
    "                    run_time=rt\n",
    "                )\n",
    "                bead.move_to( r_axes.coords_to_point(pts[-2],pts[-1]) ) #to fix tracedpath bug\n",
    "            \n",
    "                # Move bead horizontally\n",
    "                self.play(\n",
    "                    bead.animate.move_to( r_axes.coords_to_point(0,pts[-1]) ),\n",
    "                    bead2.animate.move_to( r_axes.coords_to_point(pts[-1],pts[-1]) ), \n",
    "                    run_time=rt\n",
    "                )\n",
    "            else:\n",
    "                self.play(bead.animate.move_to( r_axes.coords_to_point(pts[-2],pts[-1]) ), run_time=rt)\n",
    "                bead.move_to( r_axes.coords_to_point(pts[-2],pts[-1]) ) #to fix tracedpath bug\n",
    "                self.play(bead.animate.move_to( r_axes.coords_to_point(0,pts[-1]) ), run_time=rt)\n",
    "            \n",
    "            self.remove(trace)\n",
    "\n",
    "            # Transfer value to left graph\n",
    "            ruler.rotate(about_point = r_o, angle = PI/2, axis = [0,0,1])\n",
    "            if not(show_cw):\n",
    "                self.play(markedruler.animate.move_to( l_axes.coords_to_point(i+1,.5) ), run_time=rt)\n",
    "            newdot = Dot(l_axes.coords_to_point(i+1,pts[-1]))\n",
    "            self.add(newdot)\n",
    "            self.add(Line(l_axes.coords_to_point(i,pts[-2]),l_axes.coords_to_point(i+1,pts[-1])).set_opacity(.2))\n",
    "            \n",
    "            if show_bf:\n",
    "                self.remove(*butterflies)\n",
    "                butterflies = get_butterflies(int(20*pts[-1]))\n",
    "                self.add(*butterflies)\n",
    "\n",
    "            if flash:\n",
    "                self.play(Flash(newdot), run_time=min(rt,1))\n",
    "            \n",
    "            if not(show_cw):\n",
    "                self.play(markedruler.animate.move_to( r_axes.coords_to_point(0,.5) ), rate_func = rate_functions.ease_in_sine, run_time=rt)\n",
    "            \n",
    "            if i==3 and show_cw_label:\n",
    "                self.add(Tex(\"Cobweb Diagram\").set_color(YELLOW).next_to(r_axes,DOWN).shift(UP).scale(.9))\n",
    "            \n",
    "            self.play(Rotate(markedruler, about_point = r_o, angle = -PI/2, axis = [0,0,1]), rate_func = rate_functions.ease_out_sine, run_time=rt)\n",
    "\n",
    "        self.wait(1)"
   ]
  },
  {
   "cell_type": "code",
   "execution_count": 13,
   "id": "97703d3e",
   "metadata": {},
   "outputs": [
    {
     "name": "stderr",
     "output_type": "stream",
     "text": [
      "                                                                                \r"
     ]
    },
    {
     "data": {
      "text/html": [
       "<video src=\"media/jupyter/E1_Period3@2024-08-19@21-33-30.mp4\" controls autoplay loop style=\"max-width: 70%;\"  >\n",
       "      Your browser does not support the <code>video</code> element.\n",
       "    </video>"
      ],
      "text/plain": [
       "<IPython.core.display.Video object>"
      ]
     },
     "metadata": {},
     "output_type": "display_data"
    }
   ],
   "source": [
    "%%manim -qh E1_Period3\n",
    "config.tex_template = TexFontTemplates.urw_avant_garde\n",
    "\n",
    "class E1_Period3(TwinGraphScene):\n",
    "    def construct(self):\n",
    "        r=3.9\n",
    "        l1 = MathTex(\"F(x) = \" + str(r) + \" \\,  x \\,  (1-x) \")\n",
    "        self.twingraphs(lambda x: logistic(x,r), label=l1, init=pts3[0], show_cw=True)    "
   ]
  },
  {
   "cell_type": "code",
   "execution_count": 18,
   "id": "c9114039",
   "metadata": {},
   "outputs": [
    {
     "name": "stderr",
     "output_type": "stream",
     "text": [
      "                                                                                \r"
     ]
    },
    {
     "data": {
      "text/html": [
       "<video src=\"media/jupyter/E1b_Period1@2024-08-20@21-39-32.mp4\" controls autoplay loop style=\"max-width: 70%;\"  >\n",
       "      Your browser does not support the <code>video</code> element.\n",
       "    </video>"
      ],
      "text/plain": [
       "<IPython.core.display.Video object>"
      ]
     },
     "metadata": {},
     "output_type": "display_data"
    }
   ],
   "source": [
    "%%manim -qh E1b_Period1\n",
    "config.tex_template = TexFontTemplates.urw_avant_garde\n",
    "\n",
    "class E1b_Period1(TwinGraphScene):\n",
    "    def construct(self):\n",
    "        r=3.9\n",
    "        self.twingraphs(lambda x: logistic(x,r), init=periodic[0], show_diagonal=True, flash=False, rt1=1, rt2=.5, steps = 6)    "
   ]
  },
  {
   "cell_type": "code",
   "execution_count": 20,
   "id": "cc7b75c2",
   "metadata": {},
   "outputs": [
    {
     "name": "stderr",
     "output_type": "stream",
     "text": [
      "                                                                                \r"
     ]
    },
    {
     "data": {
      "text/html": [
       "<video src=\"media/jupyter/E2_NonLogistic@2024-08-20@09-08-08.mp4\" controls autoplay loop style=\"max-width: 70%;\"  >\n",
       "      Your browser does not support the <code>video</code> element.\n",
       "    </video>"
      ],
      "text/plain": [
       "<IPython.core.display.Video object>"
      ]
     },
     "metadata": {},
     "output_type": "display_data"
    }
   ],
   "source": [
    "%%manim -qh E2_NonLogistic\n",
    "config.tex_template = TexFontTemplates.urw_avant_garde\n",
    "\n",
    "class E2_NonLogistic(Scene):\n",
    "    def construct(self):\n",
    "        pts = [.6]\n",
    "        y = pts[-1]\n",
    "        \n",
    "        r_axes,r_labels,graph = get_cobweb_axes(show_graph=True) \n",
    "        self.add(r_axes,r_labels)\n",
    "        \n",
    "        r = ValueTracker(3.9)\n",
    "        s = ValueTracker(0)\n",
    "        t = ValueTracker(0)\n",
    "        def get_graph():\n",
    "            return r_axes.plot(lambda x: r.get_value()*x*(1-x) + s.get_value()*np.sin(2*PI*x)+ t.get_value()*np.sin(6*PI*x), x_range=[0,1], color=b_red)\n",
    "        graph = always_redraw(get_graph)\n",
    "        self.add(graph)\n",
    "        self.wait(2)\n",
    "        self.play(r.animate.set_value(3.5), rate_func=there_and_back, run_time=2)\n",
    "        self.play(r.animate.set_value(3.5),s.animate.set_value(.2), run_time=1)\n",
    "        self.play(s.animate.set_value(-.2), run_time=3)\n",
    "        self.play(t.animate.set_value(.05), rate_func=rate_functions.wiggle, run_time=6)\n",
    "        self.wait(2)"
   ]
  },
  {
   "cell_type": "code",
   "execution_count": 13,
   "id": "992f43bd",
   "metadata": {},
   "outputs": [
    {
     "name": "stderr",
     "output_type": "stream",
     "text": [
      "                                                                                \r"
     ]
    },
    {
     "data": {
      "text/html": [
       "<video src=\"media/jupyter/E3_AllOrbits@2024-08-20@18-03-31.mp4\" controls autoplay loop style=\"max-width: 70%;\"  >\n",
       "      Your browser does not support the <code>video</code> element.\n",
       "    </video>"
      ],
      "text/plain": [
       "<IPython.core.display.Video object>"
      ]
     },
     "metadata": {},
     "output_type": "display_data"
    }
   ],
   "source": [
    "%%manim -qh E3_AllOrbits\n",
    "config.tex_template = TexFontTemplates.urw_avant_garde\n",
    "\n",
    "class E3_AllOrbits(Scene):\n",
    "    def construct(self):\n",
    "        graph_elements = []\n",
    "        axes,labels = get_axes()\n",
    "        self.wait()\n",
    "        self.play(Write(VGroup(axes,labels)), run_time=3)\n",
    "        self.wait()\n",
    "        \n",
    "        text = [Tex(str(i) + \"-periodic\").to_corner(RIGHT+UP, buff=1.2) for i in range(7)]\n",
    "        text += [Tex(\"not periodic\").to_corner(RIGHT+UP, buff=1.2) for i in range(6)]\n",
    "        \n",
    "        k = 0\n",
    "        for pt in periodic[:6] + list(np.arange(.5,.6001,.05)):\n",
    "            pts = [pt]\n",
    "            y = pts[-1]\n",
    "\n",
    "            graph_elements = [Dot(axes.coords_to_point(0,pts[-1]))]\n",
    "            \n",
    "            for i in range(22):\n",
    "                y = pts[-1]\n",
    "                if pt == 0.7435897435897436:\n",
    "                    ynew = pt\n",
    "                else:\n",
    "                    ynew = logistic(y)\n",
    "                pts += [ynew]\n",
    "                graph_elements += [VGroup(Dot(axes.coords_to_point(i+1,pts[-1])),\n",
    "                                          Line(axes.coords_to_point(i,pts[-2]),axes.coords_to_point(i+1,pts[-1])).set_opacity(.5))]\n",
    "            self.add(*graph_elements)\n",
    "            self.add(text[k+1])\n",
    "            if pt == periodic[0]:\n",
    "                self.play(Create(VGroup(*graph_elements)),run_time=2)\n",
    "            if k < 6:\n",
    "                self.wait(1.1)\n",
    "                self.remove(*graph_elements)\n",
    "            elif pt < .6 or pt > .6001:\n",
    "                self.wait(3)\n",
    "                self.remove(*graph_elements)\n",
    "            self.remove(text[k+1])\n",
    "            k += 1\n",
    "            \n",
    "        for pt in [.6003]:\n",
    "            pts = [pt]\n",
    "            y = pts[-1]\n",
    "\n",
    "            axes,labels = get_axes()\n",
    "            self.add(axes,labels)\n",
    "\n",
    "            graph_elements = [Dot(axes.coords_to_point(0,pts[-1]))]\n",
    "            for i in range(22):\n",
    "                y = pts[-1]\n",
    "                if pt == 0.7435897435897436:\n",
    "                    ynew = pt\n",
    "                else:\n",
    "                    ynew = logistic(y)\n",
    "                pts += [ynew]\n",
    "                graph_elements += [VGroup(Line(axes.coords_to_point(i,pts[-2]),axes.coords_to_point(i+1,pts[-1])).set_opacity(.5),\n",
    "                                         Dot(axes.coords_to_point(i+1,pts[-1])))]\n",
    "            self.play(Create(VGroup(*graph_elements).set_color(YELLOW)),run_time=5)\n",
    "        self.wait(4)"
   ]
  },
  {
   "cell_type": "code",
   "execution_count": 45,
   "id": "ec4bc795",
   "metadata": {},
   "outputs": [
    {
     "name": "stderr",
     "output_type": "stream",
     "text": [
      "                                                                                \r"
     ]
    },
    {
     "data": {
      "text/html": [
       "<video src=\"media/jupyter/F1_Intervals@2024-08-20@10-15-15.mp4\" controls autoplay loop style=\"max-width: 70%;\"  >\n",
       "      Your browser does not support the <code>video</code> element.\n",
       "    </video>"
      ],
      "text/plain": [
       "<IPython.core.display.Video object>"
      ]
     },
     "metadata": {},
     "output_type": "display_data"
    }
   ],
   "source": [
    "%%manim -qh --disable_caching F1_Intervals\n",
    "config.tex_template = TexFontTemplates.urw_avant_garde\n",
    "\n",
    "class F1_Intervals(Scene):    \n",
    "    def construct(self):\n",
    "        r_axes,r_labels,r_graph,r_braces = get_cobweb_axes(show_graph=True, show_braces=True) \n",
    "        \n",
    "        axes = VGroup(r_axes, r_graph, r_braces)\n",
    "        self.play(Write(axes),run_time=4)\n",
    "        self.play(Indicate(r_braces[-6]),Indicate(r_braces[-5]))\n",
    "        self.play(Indicate(r_braces[-4]),Indicate(r_braces[-3]))\n",
    "        self.play(Indicate(r_braces[-2]),Indicate(r_braces[-1]))\n",
    "        self.wait(5)\n",
    "        \n",
    "        interval1 = Line(r_axes.coords_to_point(pts3[0],0), r_axes.coords_to_point(pts3[1],0), color=BLUE_B, stroke_width=10) \n",
    "        interval2 = Line(r_axes.coords_to_point(pts3[1],0), r_axes.coords_to_point(pts3[2],0), color=BLUE_B, stroke_width=10) \n",
    "        \n",
    "        self.play(Create(interval1))\n",
    "        self.play(Uncreate(interval1))\n",
    "        self.play(Create(interval2))\n",
    "        self.play(Uncreate(interval2))\n",
    "        \n",
    "        def TransformLine(graphline, text=Tex(\"\"), inverse=False, rt=2):\n",
    "            inputline = graphline.copy().stretch(0,1).align_to(Dot(r_axes.coords_to_point(0,0),radius=0),DOWN)\n",
    "            outputline = graphline.copy().stretch(0,0).align_to(Dot(r_axes.coords_to_point(0,0),radius=0),LEFT)\n",
    "            if inverse:\n",
    "                inputline,outputline = [outputline,inputline]\n",
    "            self.play(FadeIn(inputline), run_time=rt)\n",
    "            self.wait(rt)\n",
    "            self.play(ReplacementTransform(inputline, graphline),run_time=rt)\n",
    "            self.play(ReplacementTransform(graphline, outputline), FadeIn(text),run_time=rt)\n",
    "            self.wait(rt)\n",
    "            self.remove(outputline)                    \n",
    "        \n",
    "        graphline1 = r_axes.plot(logistic, color=BLUE_B, x_range = [pts3[0],pts3[1]], stroke_width=10)      \n",
    "        text1 = Tex(r\"From $\\lceil\\hspace{-1.6mm}\\lfloor a,b \\rceil\\hspace{-1.6mm}\\rfloor$ we can reach \\\\  all of $\\lceil\\hspace{-1.6mm}\\lfloor b,c \\rceil\\hspace{-1.6mm}\\rfloor$\").set_color(BLUE_B).to_edge(LEFT, buff=.5).shift(2*UP)\n",
    "\n",
    "        graphline2 = r_axes.plot(logistic, color=BLUE_B, x_range = [pts3[1],pts3[2]], stroke_width=10)      \n",
    "        text2 = Tex(r\"From $\\lceil\\hspace{-1.6mm}\\lfloor b,c \\rceil\\hspace{-1.6mm}\\rfloor$ we can reach \\\\ all of $\\lceil\\hspace{-1.6mm}\\lfloor a,b \\rceil\\hspace{-1.6mm}\\rfloor$ \\\\ and all of $\\lceil\\hspace{-1.6mm}\\lfloor b,c \\rceil\\hspace{-1.6mm}\\rfloor$ \").set_color(BLUE_B).to_edge(LEFT, buff=.5).shift(1*DOWN)\n",
    "\n",
    "        yinterval1 = Line(r_axes.coords_to_point(0,pts3[0]), r_axes.coords_to_point(0,pts3[1]), color=BLUE_B, stroke_width=10) \n",
    "        yinterval2 = Line(r_axes.coords_to_point(0,pts3[1]), r_axes.coords_to_point(0,pts3[2]), color=BLUE_B, stroke_width=10) \n",
    "\n",
    "        self.wait(1)\n",
    "        TransformLine(graphline1,text1, rt=1.2)\n",
    "        self.add(yinterval2)\n",
    "        self.play(FadeOut(yinterval2), rt=.5)\n",
    "        TransformLine(graphline2,text2, rt=1)\n",
    "        self.add(yinterval1)\n",
    "        self.wait()\n",
    "        self.add(yinterval2)\n",
    "        self.play(FadeOut(yinterval1))\n",
    "        self.play(FadeOut(yinterval2))\n",
    "        self.wait(1.5)\n",
    "        \n",
    "        graphline1 = r_axes.plot(logistic, color=BLUE_B, x_range = [pts3[0],pts3[1]], stroke_width=10)      \n",
    "        graphline2 = r_axes.plot(logistic, color=BLUE_B, x_range = [pts3[1],pts3[2]], stroke_width=10)      \n",
    "        TransformLine(graphline1, rt=.75)\n",
    "        TransformLine(graphline2, rt=.75)\n",
    "        self.wait(8)"
   ]
  },
  {
   "cell_type": "code",
   "execution_count": 29,
   "id": "4af987c4",
   "metadata": {},
   "outputs": [
    {
     "name": "stderr",
     "output_type": "stream",
     "text": [
      "                                                                                \r"
     ]
    },
    {
     "data": {
      "text/html": [
       "<video src=\"media/jupyter/F2_Barcode@2024-08-20@09-41-16.mp4\" controls autoplay loop style=\"max-width: 70%;\"  >\n",
       "      Your browser does not support the <code>video</code> element.\n",
       "    </video>"
      ],
      "text/plain": [
       "<IPython.core.display.Video object>"
      ]
     },
     "metadata": {},
     "output_type": "display_data"
    }
   ],
   "source": [
    "%%manim -qh --disable_caching F2_Barcode\n",
    "config.tex_template = TexFontTemplates.urw_avant_garde\n",
    "\n",
    "class F2_Barcode(Scene):\n",
    "    def construct(self):        \n",
    "        r_axes,r_labels,r_graph,r_braces = get_cobweb_axes(show_graph=True, show_braces=True) \n",
    "        \n",
    "        axes = VGroup(r_axes, r_graph, r_braces)\n",
    "        self.add(axes)                          \n",
    "\n",
    "        l_axes,l_labels,l_ticks = get_axes(width = 5, time = 23, show_ticks=True)\n",
    "        self.play(Write(VGroup(l_axes,l_ticks)),run_time=3)\n",
    "        \n",
    "        def get_random_bargroup():\n",
    "            bars = [randint(0,1)]\n",
    "            bargroup = []\n",
    "            for i in range(20):\n",
    "                if bars[-1] == 0:\n",
    "                    bar = Line(l_axes.coords_to_point(i+1,0.18098600645106025),l_axes.coords_to_point(i+1,0.5780972804878335))\n",
    "                else:\n",
    "                    bar = Line(l_axes.coords_to_point(i+1,0.5780972804878335),l_axes.coords_to_point(i+1,0.9512131776435783))\n",
    "                bargroup += [bar.set_color(BLUE_B)]\n",
    "                if bars[-1] == 1:\n",
    "                    bars += [randint(0,1)]\n",
    "                else:\n",
    "                    bars += [1]\n",
    "            return VGroup(*bargroup),bars\n",
    "        \n",
    "        def get_periodic_bargroup(period):\n",
    "            bargroup = []\n",
    "            bars = []\n",
    "            for i in range(20):\n",
    "                if (i+2)%period==1:\n",
    "                    bar = Line(l_axes.coords_to_point(i+1,0.18098600645106025),l_axes.coords_to_point(i+1,0.5780972804878335))\n",
    "                    bars += [0]\n",
    "                else:\n",
    "                    bar = Line(l_axes.coords_to_point(i+1,0.5780972804878335),l_axes.coords_to_point(i+1,0.9512131776435783))\n",
    "                    bars += [1]\n",
    "                bargroup += [bar.set_color(BLUE_B)]\n",
    "            return VGroup(*bargroup),bars\n",
    "        \n",
    "        def get_solution(bardata):\n",
    "            if bardata[-1] == 0:\n",
    "                endpts = pts3[0:2]\n",
    "            else:\n",
    "                endpts = pts3[1:3]\n",
    "            for i in bardata[::-1]:\n",
    "                endpts = inverse_logistic(endpts,right=bool(i))\n",
    "            init = np.average(endpts)\n",
    "            out = [init]\n",
    "            for i in range(len(bardata)-1):\n",
    "                out += [logistic(out[-1])]\n",
    "            return(out)\n",
    "            \n",
    "        text = Tex(r\"Specify barcode\").set_color(BLUE_B)\n",
    "        text.next_to(l_axes,UP).to_edge(LEFT).shift(RIGHT)\n",
    "        text2 = Tex(r\"Find solution\").set_color(WHITE)\n",
    "        text2.next_to(text,DOWN).align_to(text,LEFT)\n",
    "        \n",
    "\n",
    "        bargroup,bardata = get_random_bargroup()\n",
    "        pts = get_solution(bardata)\n",
    "        graph_elements = VGroup(Dot(l_axes.coords_to_point(1,pts[0])),\n",
    "                                *[VGroup(Line(l_axes.coords_to_point(i+1,pts[i]),l_axes.coords_to_point(i+2,pts[i+1])).set_opacity(.2),\n",
    "                                      Dot(l_axes.coords_to_point(i+2,pts[i+1])))\n",
    "                         for i in range(len(bardata)-2)])\n",
    "        self.play(ShowIncreasingSubsets(bargroup),run_time=7, rate_func=linear)\n",
    "        self.wait(3)\n",
    "        self.play(Write(text), run_time=2)\n",
    "        self.wait(10)\n",
    "        self.play(Write(text2, run_time=2),Create(graph_elements, run_time=7))\n",
    "        self.wait(3)\n",
    "        self.remove(bargroup,graph_elements)\n",
    "        self.remove(text,text2)\n",
    "        \n",
    "        for i in range(5):\n",
    "            bargroup,bardata = get_periodic_bargroup(i+1)            \n",
    "            pts = get_solution(bardata)\n",
    "            graph_elements = VGroup(Dot(l_axes.coords_to_point(1,pts[0])),\n",
    "                                    *[VGroup(Line(l_axes.coords_to_point(j+1,pts[j%(i+1)]),l_axes.coords_to_point(j+2,pts[(j+1)%(i+1)])).set_opacity(.2),\n",
    "                                      Dot(l_axes.coords_to_point(j+2,pts[(j+1)%(i+1)])))\n",
    "                             for j in range(len(bardata)-1)])\n",
    "                \n",
    "            if i == 0:\n",
    "                text = Tex(\"Constant (\" + str(i+1) + \"-periodic)\").set_color(BLUE_B)\n",
    "            else:\n",
    "                text = Tex(str(i+1) + \"-periodic\").set_color(BLUE_B)\n",
    "            text.next_to(l_axes,UP).to_edge(LEFT).shift(.5*DOWN+RIGHT)\n",
    "            self.add(text)\n",
    "            self.play(ShowIncreasingSubsets(bargroup), run_time=3, rate_func=linear)\n",
    "            self.wait(2)\n",
    "            if i == 0:\n",
    "                self.wait(2)\n",
    "                self.play(Create(graph_elements), run_time=4)\n",
    "                self.wait(3)\n",
    "            elif i == 1:\n",
    "                self.play(Create(graph_elements), run_time=4)\n",
    "            else:\n",
    "                self.play(Create(graph_elements), run_time=3.3)\n",
    "            self.remove(bargroup,text,graph_elements)"
   ]
  },
  {
   "cell_type": "code",
   "execution_count": 39,
   "id": "f4775ff4",
   "metadata": {},
   "outputs": [],
   "source": [
    "sw = 10\n",
    "\n",
    "def FatLine(start, end, **kwargs):\n",
    "    return VGroup(Dot(start, radius=0.004*sw),\n",
    "                  Line(start, end, stroke_width=sw, **kwargs),\n",
    "                  Dot(end, radius=0.004*sw))\n",
    "\n",
    "def FatPlot(axes, func, endpts, **kwargs):\n",
    "    return VGroup(Dot(axes.coords_to_point(endpts[0],func(endpts[0])), radius=0.004*sw, **kwargs),\n",
    "                  axes.plot(func, x_range = endpts,stroke_width=sw, **kwargs),\n",
    "                  Dot(axes.coords_to_point(endpts[1],func(endpts[1])), radius=0.004*sw, **kwargs))\n",
    "    \n",
    "def Orient(fatline, direction):\n",
    "    if np.dot(fatline[0].get_center(),direction) > np.dot(fatline[-1].get_center(),direction):\n",
    "        return VGroup(*[i.reverse_direction() for i in fatline[::-1]])\n",
    "    else:\n",
    "        return fatline\n",
    "\n",
    "class Inverse(Scene):\n",
    "    def run(self, period=1, run_times = [], highlights = 0, sol_range=10):\n",
    "        rt = []\n",
    "        for l in range(20):\n",
    "            if len(run_times) > l:\n",
    "                rt += [run_times[l]]\n",
    "            else:\n",
    "                rt += [1/(1+l)]\n",
    "                \n",
    "        r_axes,r_labels,r_graph,r_braces = get_cobweb_axes(show_graph=True, show_braces=True) \n",
    "        \n",
    "        axes = VGroup(r_axes, r_graph[:2], r_braces)\n",
    "        self.add(axes)                          \n",
    "\n",
    "        l_axes,l_labels,l_ticks = get_axes(width = 5, time = 23, show_ticks=True)\n",
    "        self.add(l_axes,l_ticks)\n",
    "        \n",
    "        l = 20\n",
    "        bargroup = []\n",
    "        for i in range(l):\n",
    "            if (i+1)%period == 1:\n",
    "                bar = Line(l_axes.coords_to_point(l-i,0.18098600645106025),l_axes.coords_to_point(l-i,0.5780972804878335))\n",
    "            else:\n",
    "                bar = Line(l_axes.coords_to_point(l-i,0.5780972804878335),l_axes.coords_to_point(l-i,0.9512131776435783))\n",
    "            bargroup += [bar.set_color(BLUE_B)]\n",
    "        bargroup = VGroup(*bargroup)\n",
    "        self.add(bargroup)\n",
    "        \n",
    "        indicatorline = Line(l_axes.coords_to_point(l,-1),l_axes.coords_to_point(l,2), stroke_width=1)\n",
    "        self.wait(rt[0]/2)\n",
    "        self.add(indicatorline)\n",
    "\n",
    "        # Iterate inverse transformations from\n",
    "        if not(period==1):\n",
    "            endpts = [pts3[0],pts3[1]]\n",
    "        else:\n",
    "            endpts = [pts3[1],pts3[2]]\n",
    "        \n",
    "        # Show two inverse images\n",
    "        diagline = FatLine(r_axes.coords_to_point(0,endpts[0]),r_axes.coords_to_point(0,endpts[1])).set_color(YELLOW)\n",
    "        baddiagline = diagline.copy()\n",
    "        initline = diagline.copy()\n",
    "        initlinereverse = FatLine(r_axes.coords_to_point(0,endpts[1]),r_axes.coords_to_point(0,endpts[0])).set_color(YELLOW)\n",
    "        leftline = FatLine(l_axes.coords_to_point(l,endpts[0]),l_axes.coords_to_point(l,endpts[1])).set_color(YELLOW)\n",
    "        self.wait(rt[0]/2)\n",
    "        self.add(leftline)\n",
    "        self.add(baddiagline,diagline)\n",
    "        \n",
    "        self.wait(rt[0])\n",
    "        self.remove(indicatorline)\n",
    "        \n",
    "        for i in range(l-1):            \n",
    "            # Determine inverse images\n",
    "            badendpts = inverse_logistic(endpts,right=((i+2)%period==1))\n",
    "            endpts = inverse_logistic(endpts,right=not((i+2)%period==1))\n",
    "            \n",
    "            # Plot corresponding graph sections\n",
    "            graphline = FatPlot(r_axes, logistic, endpts, color=YELLOW)\n",
    "            badgraphline = FatPlot(r_axes, logistic, badendpts, color=RED)\n",
    "            graphline = Orient(graphline, UP)\n",
    "            badgraphline = Orient(badgraphline, UP)\n",
    "            \n",
    "            # Transform diagonal segment to plot segment\n",
    "            self.play(ReplacementTransform(diagline,graphline), \n",
    "                      ReplacementTransform(baddiagline,badgraphline), run_time=rt[i+1])\n",
    "            \n",
    "            diagline = FatLine(r_axes.coords_to_point(endpts[0],endpts[0]),\n",
    "                               r_axes.coords_to_point(endpts[1],endpts[1])).set_color(YELLOW)\n",
    "            baddiagline = FatLine(r_axes.coords_to_point(badendpts[0],badendpts[0]),\n",
    "                                  r_axes.coords_to_point(badendpts[1],badendpts[1])).set_color(RED)\n",
    "            xline = FatLine(r_axes.coords_to_point(endpts[0],0),\n",
    "                               r_axes.coords_to_point(endpts[1],0)).set_color(YELLOW)\n",
    "            badxline = FatLine(r_axes.coords_to_point(badendpts[0],0),\n",
    "                                  r_axes.coords_to_point(badendpts[1],0)).set_color(RED)\n",
    "            diaghline = Orient(diagline, RIGHT)\n",
    "            baddiagline = Orient(baddiagline, RIGHT)\n",
    "            graphline = Orient(graphline, RIGHT)\n",
    "            badgraphline = Orient(badgraphline, RIGHT)\n",
    "            \n",
    "            # Transform plot segment to diagonal segment\n",
    "            self.play(ReplacementTransform(graphline,diagline), \n",
    "                      ReplacementTransform(badgraphline,baddiagline), run_time=rt[i+1])\n",
    "            \n",
    "            # Mark place on x-axis\n",
    "            indicatorline = Line(l_axes.coords_to_point(l-1-i,-1),l_axes.coords_to_point(l-1-i,2), stroke_width=1)\n",
    "            self.bring_to_back(indicatorline)\n",
    "\n",
    "            # Highlight incorrect inverse image\n",
    "            if i < highlights:\n",
    "                self.wait(rt[i+1])\n",
    "                self.add(xline,badxline)\n",
    "                if i == 0 and period == 1:\n",
    "                    xlinecopy = xline.copy()\n",
    "                    badxlinecopy = badxline.copy()\n",
    "                    self.add(xlinecopy,badxlinecopy)\n",
    "                    self.wait()\n",
    "                    self.play(Transform(xlinecopy,FatPlot(r_axes, logistic, endpts, color=YELLOW)),\n",
    "                              Transform(badxlinecopy,FatPlot(r_axes, logistic, badendpts, color=RED)),\n",
    "                             run_time=1.8)\n",
    "                    self.play(Transform(xlinecopy,initlinereverse),\n",
    "                              Transform(badxlinecopy,initline),\n",
    "                             run_time=1.8)\n",
    "                    self.wait()\n",
    "                    self.remove(xlinecopy,badxlinecopy)\n",
    "                else:\n",
    "                    self.wait(rt[i+1])\n",
    "                self.add(indicatorline)\n",
    "                badhighlight = FocusBar(baddiagline)\n",
    "                self.add(badhighlight)\n",
    "                self.bring_to_front(bargroup[i+1].set(stroke_width=sw))\n",
    "                self.wait(rt[i+1])\n",
    "                self.play(Indicate(bargroup[i+1],scale_factor=1, color=RED, rate_func=lambda x: np.sin(3*PI*x)**2), run_time=rt[i+1])\n",
    "                bargroup[i+1].set(stroke_width=3)\n",
    "                #self.bring_to_back(bargroup[13-i])\n",
    "                self.play(Flash(baddiagline),FadeOut(baddiagline), run_time=min(rt[i+1],1))\n",
    "                self.remove(badhighlight)\n",
    "            self.remove(baddiagline)\n",
    "            \n",
    "            self.add(indicatorline)\n",
    "                \n",
    "            # Highlight correct inverse image\n",
    "            highlight = FocusBar(diagline)\n",
    "            if i < highlights:\n",
    "                self.add(highlight)\n",
    "            leftline = FatLine(l_axes.coords_to_point(l-1-i,endpts[0]),\n",
    "                           l_axes.coords_to_point(l-1-i,endpts[1])).set_color(YELLOW)\n",
    "            self.add(leftline)\n",
    "            self.play(FadeIn(leftline), run_time=rt[i+1])\n",
    "            baddiagline = diagline.copy()\n",
    "            self.remove(indicatorline)\n",
    "            if i < highlights:\n",
    "                self.play(FadeOut(xline,badxline,highlight), run_time=rt[i+1])\n",
    "                self.wait(2)\n",
    "        self.remove(diagline)\n",
    "                \n",
    "        # Restart iteration from middle of interval obtained by many inverse maps\n",
    "        self.wait()\n",
    "        pts = [np.mean(endpts)]\n",
    "        bead2 = Dot().set_color(YELLOW).move_to(diagline.get_center())\n",
    "        trace2 = TracedPath(bead2.get_center).set_color(YELLOW)\n",
    "        self.add(bead2,trace2)\n",
    "        if period == 1:\n",
    "            self.play(Flash(bead2, color=YELLOW))\n",
    "            self.wait(5)\n",
    "        else:\n",
    "            for i in range(sol_range):\n",
    "                y = pts[-1]\n",
    "                if i < 10:\n",
    "                    ynew = logistic(y)\n",
    "                else:\n",
    "                    ynew = pts[-period]\n",
    "                pts += [ynew]\n",
    "                self.add( Dot(l_axes.coords_to_point(i+1,y) ))\n",
    "                self.play( bead2.animate.move_to( r_axes.coords_to_point(y,logistic(y)) ), run_time=.9 )\n",
    "                self.add( Line( l_axes.coords_to_point(i+1,y), l_axes.coords_to_point(i+2,ynew)).set_opacity(.2) )\n",
    "                self.add( Dot(l_axes.coords_to_point(i+2,ynew) ))\n",
    "                self.play( bead2.animate.move_to( r_axes.coords_to_point(logistic(y),logistic(y)) ), run_time=.9 )"
   ]
  },
  {
   "cell_type": "code",
   "execution_count": 40,
   "id": "50f0caca",
   "metadata": {},
   "outputs": [
    {
     "name": "stderr",
     "output_type": "stream",
     "text": [
      "                                                                                \r"
     ]
    },
    {
     "data": {
      "text/html": [
       "<video src=\"media/jupyter/G1_Inverse1@2024-08-20@10-06-59.mp4\" controls autoplay loop style=\"max-width: 70%;\"  >\n",
       "      Your browser does not support the <code>video</code> element.\n",
       "    </video>"
      ],
      "text/plain": [
       "<IPython.core.display.Video object>"
      ]
     },
     "metadata": {},
     "output_type": "display_data"
    }
   ],
   "source": [
    "%%manim -qh G1_Inverse1\n",
    "config.tex_template = TexFontTemplates.urw_avant_garde\n",
    "\n",
    "class G1_Inverse1(Inverse):    \n",
    "    def construct(self):\n",
    "        self.run(1,run_times=[5,2.5,1.7,1,.7,.5,.3,.2,.1], highlights = 2)"
   ]
  },
  {
   "cell_type": "code",
   "execution_count": 41,
   "id": "fd9b84f2",
   "metadata": {},
   "outputs": [
    {
     "name": "stderr",
     "output_type": "stream",
     "text": [
      "                                                                                \r"
     ]
    },
    {
     "data": {
      "text/html": [
       "<video src=\"media/jupyter/G2_Inverse2@2024-08-20@10-08-49.mp4\" controls autoplay loop style=\"max-width: 70%;\"  >\n",
       "      Your browser does not support the <code>video</code> element.\n",
       "    </video>"
      ],
      "text/plain": [
       "<IPython.core.display.Video object>"
      ]
     },
     "metadata": {},
     "output_type": "display_data"
    }
   ],
   "source": [
    "%%manim -qh G2_Inverse2\n",
    "config.tex_template = TexFontTemplates.urw_avant_garde\n",
    "\n",
    "class G2_Inverse2(Inverse):    \n",
    "    def construct(self):\n",
    "        self.run(2,run_times=[8,1,.3], highlights = 1)"
   ]
  },
  {
   "cell_type": "code",
   "execution_count": 42,
   "id": "de087e10",
   "metadata": {},
   "outputs": [
    {
     "name": "stderr",
     "output_type": "stream",
     "text": [
      "                                                                                \r"
     ]
    },
    {
     "data": {
      "text/html": [
       "<video src=\"media/jupyter/G3_Inverse3@2024-08-20@10-10-13.mp4\" controls autoplay loop style=\"max-width: 70%;\"  >\n",
       "      Your browser does not support the <code>video</code> element.\n",
       "    </video>"
      ],
      "text/plain": [
       "<IPython.core.display.Video object>"
      ]
     },
     "metadata": {},
     "output_type": "display_data"
    }
   ],
   "source": [
    "%%manim -qh G3_Inverse3\n",
    "config.tex_template = TexFontTemplates.urw_avant_garde\n",
    "\n",
    "class G3_Inverse3(Inverse):    \n",
    "    def construct(self):\n",
    "        self.run(3,run_times=[1./2**(l-1) for l in range(20)], highlights = 0)"
   ]
  },
  {
   "cell_type": "code",
   "execution_count": 43,
   "id": "0fc57c48",
   "metadata": {},
   "outputs": [
    {
     "name": "stderr",
     "output_type": "stream",
     "text": [
      "                                                                                \r"
     ]
    },
    {
     "data": {
      "text/html": [
       "<video src=\"media/jupyter/G4_Inverse5@2024-08-20@10-12-45.mp4\" controls autoplay loop style=\"max-width: 70%;\"  >\n",
       "      Your browser does not support the <code>video</code> element.\n",
       "    </video>"
      ],
      "text/plain": [
       "<IPython.core.display.Video object>"
      ]
     },
     "metadata": {},
     "output_type": "display_data"
    }
   ],
   "source": [
    "%%manim -qh G4_Inverse5\n",
    "config.tex_template = TexFontTemplates.urw_avant_garde\n",
    "\n",
    "class G4_Inverse5(Inverse):    \n",
    "    def construct(self):\n",
    "        self.run(5,run_times=[1./2**(l-1) for l in range(20)], highlights = 0, sol_range=19)"
   ]
  },
  {
   "cell_type": "code",
   "execution_count": 44,
   "id": "55194aed",
   "metadata": {},
   "outputs": [
    {
     "name": "stderr",
     "output_type": "stream",
     "text": [
      "                                                                                \r"
     ]
    },
    {
     "data": {
      "text/html": [
       "<video src=\"media/jupyter/H1_ChaoticBarcode@2024-08-20@10-14-09.mp4\" controls autoplay loop style=\"max-width: 70%;\"  >\n",
       "      Your browser does not support the <code>video</code> element.\n",
       "    </video>"
      ],
      "text/plain": [
       "<IPython.core.display.Video object>"
      ]
     },
     "metadata": {},
     "output_type": "display_data"
    }
   ],
   "source": [
    "%%manim -qh H1_ChaoticBarcode\n",
    "config.tex_template = TexFontTemplates.urw_avant_garde\n",
    "\n",
    "class H1_ChaoticBarcode(Scene):\n",
    "    def construct(self):        \n",
    "        r_axes,r_labels,r_graph,r_braces = get_cobweb_axes(show_graph=True, show_braces=True) \n",
    "        \n",
    "        axes = VGroup(r_axes, r_graph, r_braces)\n",
    "        self.add(axes)                          \n",
    "\n",
    "        l_axes,l_labels = get_axes(width = 6, time = 43)\n",
    "        self.wait(2)\n",
    "        self.play(Create(l_axes))\n",
    "        \n",
    "        def get_quad_bargroup():\n",
    "            bars = [randint(0,1)]\n",
    "            bargroup = []\n",
    "            for i in range(40):\n",
    "                if bars[-1] == 0:\n",
    "                    bar = Line(l_axes.coords_to_point(i+1,0.18098600645106025),l_axes.coords_to_point(i+1,0.5780972804878335))\n",
    "                else:\n",
    "                    bar = Line(l_axes.coords_to_point(i+1,0.5780972804878335),l_axes.coords_to_point(i+1,0.9512131776435783))\n",
    "                bargroup += [bar.set_color(BLUE_B)]\n",
    "                if i+2 in [1,4,9,16,25,36]:\n",
    "                    bars += [randint(0,1)]\n",
    "                else:\n",
    "                    bars += [1]\n",
    "            return VGroup(*bargroup),bars\n",
    "        \n",
    "        self.wait()\n",
    "        indicatorlines = VGroup(*[\n",
    "            Line(l_axes.coords_to_point(i**2,0),l_axes.coords_to_point(i**2,1), stroke_width=1)\n",
    "            for i in range(1,7)])\n",
    "            \n",
    "\n",
    "        text = Tex(r\"Here we allow $[a,b]$ in only steps $1,4,9,16,\\ldots$ \\\\ Then no periodic solutions fit the barcode\")\n",
    "        text.scale(.7).set_color(BLUE_B).next_to(l_axes,UP).to_edge(LEFT)#.shift(.5*RIGHT)\n",
    "            \n",
    "        footnote = Tex(r\"*Very large number = uncountable\")\n",
    "        footnote.set_color(b_red).scale(.7).to_corner(LEFT+DOWN).shift(.5*RIGHT)\n",
    "        for i in range(7):\n",
    "            bargroup,bardata = get_quad_bargroup()\n",
    "            if i > 3:\n",
    "                self.add(indicatorlines)\n",
    "                self.add(text)\n",
    "            self.play(Create(bargroup),run_time=3)\n",
    "            if i == 5:\n",
    "                self.add(footnote)\n",
    "            self.wait(2)\n",
    "            self.remove(bargroup,text)\n",
    "        self.wait(2)"
   ]
  },
  {
   "cell_type": "code",
   "execution_count": 46,
   "id": "e5462097",
   "metadata": {},
   "outputs": [
    {
     "name": "stderr",
     "output_type": "stream",
     "text": [
      "                                                                                \r"
     ]
    },
    {
     "data": {
      "text/html": [
       "<video src=\"media/jupyter/H2_ChaoticOverlay@2024-08-20@10-15-28.mp4\" controls autoplay loop style=\"max-width: 70%;\"  >\n",
       "      Your browser does not support the <code>video</code> element.\n",
       "    </video>"
      ],
      "text/plain": [
       "<IPython.core.display.Video object>"
      ]
     },
     "metadata": {},
     "output_type": "display_data"
    }
   ],
   "source": [
    "%%manim -qh H2_ChaoticOverlay\n",
    "config.tex_template = TexFontTemplates.urw_avant_garde\n",
    "\n",
    "class H2_ChaoticOverlay(Scene):\n",
    "    def construct(self):\n",
    "        points = [pts3[0] + i*1e-4 for i in range(-5,5)]\n",
    "        all_elements = []\n",
    "        for pt in points:\n",
    "            pts = [pt]\n",
    "            y = pts[-1]\n",
    "\n",
    "            axes,labels = get_axes()\n",
    "            self.add(axes,labels)\n",
    "\n",
    "            self.add(Dot(axes.coords_to_point(0,pts[-1])))\n",
    "            graph_elements = []\n",
    "            for i in range(22):\n",
    "                y = pts[-1]\n",
    "                if pt == 0.7435897435897436:\n",
    "                    ynew = pt\n",
    "                else:\n",
    "                    ynew = logistic(y)\n",
    "                pts += [ynew]\n",
    "                graph_elements += [VGroup(Line(axes.coords_to_point(i,pts[-2]),axes.coords_to_point(i+1,pts[-1]),stroke_opacity=0.2),\n",
    "                                         Dot(axes.coords_to_point(i+1,pts[-1]), fill_opacity=.2))]\n",
    "            all_elements += [graph_elements]\n",
    "        self.play(*[Create(VGroup(*all_elements[i])) for i in range(len(periodic))], run_time=12, rate_func = rate_functions.ease_in_sine)\n",
    "        self.wait(5)"
   ]
  },
  {
   "cell_type": "code",
   "execution_count": 14,
   "id": "d99bfd79",
   "metadata": {},
   "outputs": [
    {
     "name": "stderr",
     "output_type": "stream",
     "text": [
      "                                                                                \r"
     ]
    },
    {
     "data": {
      "text/html": [
       "<video src=\"media/jupyter/H3_Sharkovsky@2024-08-20@18-05-00.mp4\" controls autoplay loop style=\"max-width: 70%;\"  >\n",
       "      Your browser does not support the <code>video</code> element.\n",
       "    </video>"
      ],
      "text/plain": [
       "<IPython.core.display.Video object>"
      ]
     },
     "metadata": {},
     "output_type": "display_data"
    }
   ],
   "source": [
    "%%manim -qh H3_Sharkovsky\n",
    "config.tex_template = TexFontTemplates.urw_avant_garde\n",
    "\n",
    "class H3_Sharkovsky(Scene):\n",
    "    def construct(self):\n",
    "        text_intro = VGroup(\n",
    "            Tex(r\"If $x \\succ y$ means that\"),\n",
    "            Tex(r\" an $x$-periodic solution implies a $y$-periodic solution,\"),\n",
    "            Tex(r\"then we've shown that\")\n",
    "        ).arrange(DOWN, center=False).shift(3*UP)\n",
    "        \n",
    "        examples = [MathTex(r\"3 \\succ \" + str(i)).next_to(text_intro, DOWN) for i in range(1,7)]\n",
    "        examples.pop(2)\n",
    "        general = Tex(r\"$3 \\succ y$\").next_to(text_intro, DOWN).shift(1.2*RIGHT)\n",
    "        quantifier = Tex(r\"$\\forall y \\in \\mathbb{N}:$\").next_to(general, LEFT, buff=.4)\n",
    "        \n",
    "        text = Tex(r\"Sharkovsky ordering:\").set_color(b_light).to_edge(LEFT, buff=1).shift(2.5*UP)\n",
    "        ordering = VGroup(VGroup(MathTex(\"3\"),MathTex(r\"\\succ 5 \\succ 7 \\succ 9 \\succ \\ldots\")).arrange(RIGHT),\n",
    "                    MathTex(r\"\\ldots \\succ 6 \\succ 10 \\succ 14 \\succ \\ldots\"),\n",
    "                    MathTex(r\"\\ddots\").shift(2*RIGHT),\n",
    "                    MathTex(r\"\\ldots \\succ 3 \\cdot 2^n \\succ 5 \\cdot 2^n \\succ 7 \\cdot 2^n \\succ \\ldots\"),\n",
    "                    MathTex(r\"\\ddots\").shift(2*RIGHT),\n",
    "                    MathTex(r\"\\ldots \\succ 2^n \\succ \\ldots \\succ 8 \\succ 4 \\succ 2 \\succ 1\")).arrange(DOWN, center=False)\n",
    "        \n",
    "        #self.add(text_intro)\n",
    "            \n",
    "        for i in range(1,len(ordering)):\n",
    "            ordering[i].align_to(ordering[0],LEFT)\n",
    "            ordering[i].shift(.8*i*RIGHT)\n",
    "        ordering.shift(3*LEFT+UP).set_color(b_light)\n",
    "        \n",
    "        self.wait(3)\n",
    "        self.play(Write(text))\n",
    "        self.wait(2)\n",
    "        self.play(Write(ordering, run_time=5))\n",
    "        self.wait(15)\n",
    "        self.play(Indicate(ordering[0][0]))\n",
    "        self.wait(10)"
   ]
  },
  {
   "cell_type": "code",
   "execution_count": null,
   "id": "c021cddc",
   "metadata": {},
   "outputs": [],
   "source": [
    "%%manim -qh H4_TwoIntervals\n",
    "config.tex_template = TexFontTemplates.urw_avant_garde\n",
    "\n",
    "class H4_TwoIntervals(Scene):    \n",
    "    def construct(self):\n",
    "        pts = [pts3[0]]\n",
    "        y = pts[-1]\n",
    "\n",
    "        l_axes,l_labels = get_axes(width = 5, time = 18)\n",
    "        l_o = l_axes.coords_to_point(0,0)\n",
    "        l_y = l_axes.coords_to_point(0,1)\n",
    "        \n",
    "        r_axes,r_labels = get_cobweb_axes() \n",
    "        r_o = r_axes.coords_to_point(0,0)\n",
    "        r_x = r_axes.coords_to_point(1,0)\n",
    "        r_y = r_axes.coords_to_point(0,1)\n",
    "        graph = r_axes.plot(logistic, color=RED, x_range = [0,1])\n",
    "        \n",
    "        self.add(l_axes,l_labels)\n",
    "        self.add(r_axes,r_labels, graph)\n",
    "        \n",
    "        diagonal = Line(r_o, r_axes.coords_to_point(1,1))\n",
    "        self.add(diagonal)\n",
    "        \n",
    "        self.add(Dot(l_axes.coords_to_point(0,pts[-1])))\n",
    "        bead2 = Dot().move_to((1-y)*r_o + y*r_x).set_color(YELLOW)\n",
    "        for i in range(15):\n",
    "            y = pts[-1]\n",
    "            ynew = logistic(y)\n",
    "            pts += [ynew]\n",
    "            #self.wait(max(9/(i+3),1))\n",
    "            \n",
    "            if i > 0:\n",
    "                trace2 = TracedPath(bead2.get_center).set_color(YELLOW)\n",
    "                self.add(trace2)\n",
    "            \n",
    "            # Move bead vertically\n",
    "            self.play(\n",
    "                bead2.animate.move_to( r_axes.coords_to_point(y,logistic(y)) ) , run_time=.001\n",
    "            )\n",
    "            \n",
    "            if i == 0:\n",
    "                trace2 = TracedPath(bead2.get_center).set_color(YELLOW)\n",
    "                self.add(trace2)\n",
    "                \n",
    "            # Transfer value to left graph\n",
    "            newdot = Dot(l_axes.coords_to_point(i+1,pts[-1]))\n",
    "            self.add(newdot)\n",
    "            self.add(Line(l_axes.coords_to_point(i,pts[-2]),l_axes.coords_to_point(i+1,pts[-1])).set_opacity(.2))\n",
    "            \n",
    "            # Move bead horizontally\n",
    "            self.play(\n",
    "                bead2.animate.move_to( r_axes.coords_to_point(logistic(y),logistic(y)) ) , run_time=.001\n",
    "            )\n",
    "            path2 = trace2.copy().clear_updaters()\n",
    "            self.add(path2)\n",
    "            self.remove(trace2,bead2)\n",
    "        \n",
    "        d = .05\n",
    "        braces = VGroup(*[\n",
    "            Line(r_axes.coords_to_point(-d,pts[0]),r_axes.coords_to_point(-d,pts[1])),\n",
    "            Line(r_axes.coords_to_point(-2*d,pts[1]),r_axes.coords_to_point(-2*d,pts[2])),\n",
    "        ]).set_color(YELLOW)\n",
    "\n",
    "        self.wait()\n",
    "        self.play(Create(braces, run_time=2))\n",
    "        self.wait(5)"
   ]
  },
  {
   "cell_type": "code",
   "execution_count": null,
   "id": "9fe07c1e",
   "metadata": {},
   "outputs": [],
   "source": [
    "%%manim -qh H5_ManyIntervals\n",
    "config.tex_template = TexFontTemplates.urw_avant_garde\n",
    "\n",
    "class H5_ManyIntervals(MovingCameraScene):    \n",
    "    def construct(self):\n",
    "        pts = [pts3[0]]\n",
    "        y = pts[-1]\n",
    "\n",
    "        l_axes,l_labels = get_axes(width = 5, time = 18)\n",
    "        l_o = l_axes.coords_to_point(0,0)\n",
    "        l_y = l_axes.coords_to_point(0,1)\n",
    "        \n",
    "        r_axes,r_labels = get_cobweb_axes() \n",
    "        r_o = r_axes.coords_to_point(0,0)\n",
    "        r_x = r_axes.coords_to_point(1,0)\n",
    "        r_y = r_axes.coords_to_point(0,1)\n",
    "        graph = r_axes.plot(logistic, color=RED, x_range = [0,1])\n",
    "        \n",
    "        \n",
    "        pts = [0.7337037198396689]\n",
    "        y = pts[-1]\n",
    "        \n",
    "        \n",
    "        self.add(l_axes,l_labels)\n",
    "        self.add(r_axes,r_labels, graph)\n",
    "        \n",
    "        diagonal = Line(r_o, r_axes.coords_to_point(1,1))\n",
    "        self.add(diagonal)\n",
    "        \n",
    "        self.add(Dot(l_axes.coords_to_point(0,pts[-1])))\n",
    "        bead2 = Dot().move_to((1-y)*r_o + y*r_x).set_color(YELLOW)\n",
    "        for i in range(15):\n",
    "            y = pts[-1]\n",
    "            ynew = logistic(y)\n",
    "            pts += [ynew]\n",
    "            #self.wait(max(9/(i+3),1))\n",
    "            \n",
    "            if i > 0:\n",
    "                trace2 = TracedPath(bead2.get_center).set_color(YELLOW)\n",
    "                self.add(trace2)\n",
    "            \n",
    "            # Move bead vertically\n",
    "            self.play(\n",
    "                bead2.animate.move_to( r_axes.coords_to_point(y,logistic(y)) ) , run_time=.001\n",
    "            )\n",
    "            \n",
    "            if i == 0:\n",
    "                trace2 = TracedPath(bead2.get_center).set_color(YELLOW)\n",
    "                self.add(trace2)\n",
    "                \n",
    "            # Transfer value to left graph\n",
    "            newdot = Dot(l_axes.coords_to_point(i+1,pts[-1]))\n",
    "            self.add(newdot)\n",
    "            self.add(Line(l_axes.coords_to_point(i,pts[-2]),l_axes.coords_to_point(i+1,pts[-1])).set_opacity(.2))\n",
    "            \n",
    "            # Move bead horizontally\n",
    "            self.play(\n",
    "                bead2.animate.move_to( r_axes.coords_to_point(logistic(y),logistic(y)) ) , run_time=.001\n",
    "            )\n",
    "            path2 = trace2.copy().clear_updaters()\n",
    "            self.add(path2)\n",
    "            self.remove(trace2,bead2)\n",
    "        \n",
    "        d = .05\n",
    "        braces = VGroup(*[\n",
    "            Line(r_axes.coords_to_point(-d,pts[0]),r_axes.coords_to_point(-d,pts[1])),\n",
    "            Line(r_axes.coords_to_point(-2*d,pts[1]),r_axes.coords_to_point(-2*d,pts[2])),\n",
    "            Line(r_axes.coords_to_point(-3*d,pts[0]),r_axes.coords_to_point(-3*d,pts[3])),\n",
    "            Line(r_axes.coords_to_point(-4*d,pts[1]),r_axes.coords_to_point(-4*d,pts[4])),\n",
    "            Line(r_axes.coords_to_point(-5*d,pts[1]),r_axes.coords_to_point(-5*d,pts[5])),\n",
    "            Line(r_axes.coords_to_point(-6*d,pts[4]),r_axes.coords_to_point(-6*d,pts[6]))\n",
    "        ]).set_color(YELLOW)\n",
    "\n",
    "        self.wait()\n",
    "        self.play(Create(braces, run_time=4))\n",
    "        self.play(self.camera.frame.animate.scale(0.4).shift(.3*UP+.3*RIGHT), run_time=5)\n",
    "        self.wait(3)"
   ]
  },
  {
   "cell_type": "code",
   "execution_count": 29,
   "id": "f1e2f8e9",
   "metadata": {},
   "outputs": [
    {
     "name": "stdout",
     "output_type": "stream",
     "text": [
      "    fjac: array([[-1.]])\n",
      "     fun: array([2.66453526e-15])\n",
      " message: 'The solution converged.'\n",
      "    nfev: 20\n",
      "     qtf: array([-2.66453526e-15])\n",
      "       r: array([-77.18760968])\n",
      "  status: 1\n",
      " success: True\n",
      "       x: array([0.80739658])\n",
      "0.8073965839707439\n"
     ]
    }
   ],
   "source": [
    "def logisticpower2(n,y):\n",
    "    for i in range(n):\n",
    "        y = logistic(y, r=3.9)\n",
    "    return y\n",
    "\n",
    "sol = root(lambda y: logisticpower2(7,y)-y, .8, tol=1e-13)\n",
    "print(sol)\n",
    "print(sol.x[0])"
   ]
  }
 ],
 "metadata": {
  "kernelspec": {
   "display_name": "Python 3 (ipykernel)",
   "language": "python",
   "name": "python3"
  },
  "language_info": {
   "codemirror_mode": {
    "name": "ipython",
    "version": 3
   },
   "file_extension": ".py",
   "mimetype": "text/x-python",
   "name": "python",
   "nbconvert_exporter": "python",
   "pygments_lexer": "ipython3",
   "version": "3.10.12"
  }
 },
 "nbformat": 4,
 "nbformat_minor": 5
}
